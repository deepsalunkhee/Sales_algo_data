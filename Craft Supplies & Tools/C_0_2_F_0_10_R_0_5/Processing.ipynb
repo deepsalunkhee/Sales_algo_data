{
 "cells": [
  {
   "cell_type": "code",
   "execution_count": 1,
   "id": "a7c7f3ba-d617-4963-bd3f-f05adbbc2c98",
   "metadata": {},
   "outputs": [
    {
     "name": "stdout",
     "output_type": "stream",
     "text": [
      "sorted by cost\n"
     ]
    }
   ],
   "source": [
    "import pandas as pd\n",
    "\n",
    "# Read the CSV file into a DataFrame\n",
    "ehdata = pd.read_csv('ehb.csv')\n",
    "\n",
    "# Remove '$' symbol from the 'Cost' column and convert it to a numeric type\n",
    "ehdata['Cost'] = ehdata['Cost'].replace({'\\$': ''}, regex=True).astype(float)\n",
    "\n",
    "# Sort the data based on the 'Cost' column in ascending order\n",
    "sorted_data = ehdata.sort_values(by='Cost')\n",
    "\n",
    "# Rewrite the sorted data to the same CSV file\n",
    "sorted_data.to_csv('ehdata.csv', index=False)\n",
    "\n",
    "print('sorted by cost')"
   ]
  },
  {
   "cell_type": "code",
   "execution_count": 2,
   "id": "550b88d3-7d26-4c62-815a-d3fbeddc038a",
   "metadata": {},
   "outputs": [
    {
     "name": "stdout",
     "output_type": "stream",
     "text": [
      "Data has been sorted and saved back to the same 'ehdata.csv' file after removing commas from 'Favorite'.\n"
     ]
    }
   ],
   "source": [
    "import pandas as pd\n",
    "\n",
    "# Read the CSV file into a DataFrame\n",
    "ehdata = pd.read_csv('ehb.csv')\n",
    "\n",
    "# Remove '$' symbol from the 'Cost' column and convert it to a numeric type\n",
    "ehdata['Cost'] = ehdata['Cost'].replace({'\\$': ''}, regex=True).astype(float)\n",
    "\n",
    "# Remove commas from 'Favorite' column values and convert it to an integer\n",
    "ehdata['Favorite'] = ehdata['Favorite'].replace(',', '', regex=True).astype(int)\n",
    "\n",
    "# Define cost ranges\n",
    "cost_ranges = [(0, 2),(2,10),(10, 50)]\n",
    "\n",
    "# Define favorite ranges\n",
    "favorite_ranges = [(0, 11), (11, 200),(200, 500),(500,1000), (1000, 2000),(2000,4000), (4000, float('inf'))]\n",
    "\n",
    "# Function to categorize cost and favorite ranges\n",
    "def categorize_range(value, ranges):\n",
    "    for i, (start, end) in enumerate(ranges):\n",
    "        if start <= value < end:\n",
    "            return i\n",
    "    return len(ranges) - 1\n",
    "\n",
    "# Categorize cost and favorite ranges\n",
    "ehdata['Cost_Group'] = ehdata['Cost'].apply(lambda x: categorize_range(x, cost_ranges))\n",
    "ehdata['Favorite_Group'] = ehdata['Favorite'].apply(lambda x: categorize_range(x, favorite_ranges))\n",
    "\n",
    "# Group by 'Cost_Group' and 'Favorite_Group', then sort within each group based on 'Favorite'\n",
    "sorted_data = ehdata.groupby(['Cost_Group', 'Favorite_Group']).apply(lambda x: x.sort_values('Favorite')).reset_index(drop=True)\n",
    "\n",
    "# Save the sorted data to the same 'ehdata.csv' file, overwriting it\n",
    "sorted_data.to_csv('ehb.csv', index=False)\n",
    "\n",
    "# Display or use the sorted data as needed\n",
    "print(\"Data has been sorted and saved back to the same 'ehdata.csv' file after removing commas from 'Favorite'.\")\n"
   ]
  },
  {
   "cell_type": "code",
   "execution_count": 4,
   "id": "f20c1c96-d678-4e50-9104-6cbf209370d7",
   "metadata": {},
   "outputs": [
    {
     "name": "stdout",
     "output_type": "stream",
     "text": [
      "Data has been sorted based on 'Favorite_Group' and 'Review_Group', commas from 'Favorite' and 'Review' columns have been removed, and the data has been saved back to the same 'ehdata.csv' file.\n"
     ]
    }
   ],
   "source": [
    "import pandas as pd\n",
    "\n",
    "# Read the updated 'ehdata.csv' file into a DataFrame\n",
    "ehdata = pd.read_csv('ehb.csv')\n",
    "\n",
    "# Remove '$' symbol from the 'Cost' column and convert it to a numeric type\n",
    "ehdata['Cost'] = ehdata['Cost'].replace({'\\$': ''}, regex=True).astype(float)\n",
    "\n",
    "# Remove commas from 'Favorite' and 'Review' column values and convert them to integers\n",
    "ehdata['Favorite'] = ehdata['Favorite'].replace(',', '', regex=True).astype(int)\n",
    "ehdata['Review'] = ehdata['Review'].replace(',', '', regex=True).astype(int)\n",
    "ehdata['Total Sale'] = ehdata['Total Sale'].replace(',', '', regex=True).astype(float)\n",
    "\n",
    "# Define favorite ranges\n",
    "favorite_ranges = [(0, 11), (11, 200),(200, 500),(500,1000), (1000, 2000),(2000,4000), (4000, float('inf'))]\n",
    "\n",
    "# Define review ranges\n",
    "review_ranges = [(0, 5), (5, 20),(20,30),(30,50),(51, 200), (201, 500), (501, 1000), (1001, 5000), (5001, float('inf'))]\n",
    "\n",
    "# Function to categorize review ranges\n",
    "def categorize_review(value, ranges):\n",
    "    for i, (start, end) in enumerate(ranges):\n",
    "        if start <= value <= end:\n",
    "            return i\n",
    "    return len(ranges) - 1\n",
    "\n",
    "# Categorize review ranges\n",
    "ehdata['Review_Group'] = ehdata['Review'].apply(lambda x: categorize_review(x, review_ranges))\n",
    "\n",
    "# Group by 'Favorite_Group' and 'Review_Group', then sort within each group based on 'Review'\n",
    "sorted_data = ehdata.groupby(['Favorite_Group', 'Review_Group']).apply(lambda x: x.sort_values('Review')).reset_index(drop=True)\n",
    "\n",
    "# Save the sorted data to the same 'ehdata.csv' file, overwriting it\n",
    "sorted_data.to_csv('ehb.csv', index=False)\n",
    "\n",
    "# Display or use the sorted data as needed\n",
    "print(\"Data has been sorted based on 'Favorite_Group' and 'Review_Group', commas from 'Favorite' and 'Review' columns have been removed, and the data has been saved back to the same 'ehdata.csv' file.\")\n"
   ]
  },
  {
   "cell_type": "code",
   "execution_count": 5,
   "id": "add6f99c-c9b0-4e6e-ab06-f99386eb8f9f",
   "metadata": {},
   "outputs": [],
   "source": [
    "import pandas as pd\n",
    "\n",
    "# Read the CSV file\n",
    "file_path = 'ehb.csv'\n",
    "data = pd.read_csv(file_path)\n",
    "\n",
    "# Sort the data based on specified columns (Cost_Group, Favorite_Group, Review_Group)\n",
    "sorted_data = data.sort_values(by=['Cost_Group', 'Favorite_Group', 'Review_Group'])\n",
    "\n",
    "# Save the changes to the same file\n",
    "sorted_data.to_csv(file_path, index=False)  # Set index=False to exclude the index column in the output\n"
   ]
  },
  {
   "cell_type": "code",
   "execution_count": 6,
   "id": "f9b0440e-7e9f-480e-ab3b-936a603da4c5",
   "metadata": {},
   "outputs": [
    {
     "name": "stdout",
     "output_type": "stream",
     "text": [
      "Group Codes: 0, 0, 0\n",
      "Number of Rows in Group: 104\n",
      "            Total Sale    Review  Favorite      Cost\n",
      "Total Sale    1.000000  0.036812  0.210474 -0.029217\n",
      "Review        0.036812  1.000000  0.272680 -0.099064\n",
      "Favorite      0.210474  0.272680  1.000000 -0.081240\n",
      "Cost         -0.029217 -0.099064 -0.081240  1.000000\n",
      "\n",
      "\n",
      "Group Codes: 1, 0, 0\n",
      "Number of Rows in Group: 16\n",
      "            Total Sale    Review  Favorite  Cost\n",
      "Total Sale    1.000000  0.032362 -0.145349   NaN\n",
      "Review        0.032362  1.000000  0.249323   NaN\n",
      "Favorite     -0.145349  0.249323  1.000000   NaN\n",
      "Cost               NaN       NaN       NaN   NaN\n",
      "\n",
      "\n"
     ]
    }
   ],
   "source": [
    "import pandas as pd\n",
    "\n",
    "# Read the updated CSV file\n",
    "file_path = 'ehb.csv'\n",
    "data = pd.read_csv(file_path)\n",
    "\n",
    "# Group the data based on Cost_Group, Favorite_Group, and Review_Group\n",
    "grouped_data = data.groupby(['Cost_Group', 'Favorite_Group', 'Review_Group'])\n",
    "\n",
    "# Calculate correlation for each group\n",
    "correlation_per_group = grouped_data[['Total Sale', 'Review', 'Favorite', 'Cost']].corr()\n",
    "\n",
    "# Display correlations along with group codes and number of rows within each group\n",
    "for (cost_group, favorite_group, review_group), group in grouped_data:\n",
    "    group_size = len(group)\n",
    "    print(f\"Group Codes: {cost_group}, {favorite_group}, {review_group}\")\n",
    "    print(f\"Number of Rows in Group: {group_size}\")\n",
    "    print(correlation_per_group.loc[(cost_group, favorite_group, review_group)])\n",
    "    print(\"\\n\")\n"
   ]
  },
  {
   "cell_type": "code",
   "execution_count": 7,
   "id": "204b8e9f-939c-48ac-ba4d-4b081ba072dd",
   "metadata": {},
   "outputs": [
    {
     "name": "stdout",
     "output_type": "stream",
     "text": [
      "Linear Regression Formula for Total Sale:\n",
      "Total Sale = 17.14 + -0.36 * Review + 3.11 * Favorite + -4.74 * Cost\n"
     ]
    }
   ],
   "source": [
    "import pandas as pd\n",
    "from sklearn.linear_model import LinearRegression\n",
    "\n",
    "# Step 1: Load the data\n",
    "file_path = 'ehb.csv'  # Replace with the correct file path\n",
    "data = pd.read_csv(file_path)\n",
    "\n",
    "# Step 2: Explore the data (if needed)\n",
    "\n",
    "# Step 3: Prepare data for regression\n",
    "X = data[['Review', 'Favorite', 'Cost']]  # Features: Review, Favorite, Cost\n",
    "y = data['Total Sale']  # Target variable: Total Sale\n",
    "\n",
    "# Step 4: Train the regression model\n",
    "model = LinearRegression()  # Create a Linear Regression model\n",
    "model.fit(X, y)  # Train the model\n",
    "\n",
    "# Step 5: Print the formula of the linear regression model\n",
    "coefficients = model.coef_\n",
    "intercept = model.intercept_\n",
    "\n",
    "formula = f\"Total Sale = {intercept:.2f} + {coefficients[0]:.2f} * Review + {coefficients[1]:.2f} * Favorite + {coefficients[2]:.2f} * Cost\"\n",
    "print(\"Linear Regression Formula for Total Sale:\")\n",
    "print(formula)\n"
   ]
  },
  {
   "cell_type": "code",
   "execution_count": 8,
   "id": "1a7b33d3-e7ec-4c8a-a514-741ca3faa6c9",
   "metadata": {},
   "outputs": [
    {
     "name": "stdout",
     "output_type": "stream",
     "text": [
      "Mean Absolute Error: 30.93\n",
      "Mean Squared Error: 3427.60\n",
      "R-squared Score: 0.03\n",
      "Cross-validation Scores: [-0.04270924 -0.05679276  0.03829043 -0.01658388 -0.24381924]\n",
      "Mean Cross-validation Score: -0.06\n"
     ]
    }
   ],
   "source": [
    "from sklearn.metrics import mean_absolute_error, mean_squared_error, r2_score\n",
    "from sklearn.model_selection import cross_val_score\n",
    "\n",
    "# Predicting values using the model\n",
    "y_pred = model.predict(X)\n",
    "\n",
    "# Calculating evaluation metrics\n",
    "mae = mean_absolute_error(y, y_pred)\n",
    "mse = mean_squared_error(y, y_pred)\n",
    "r2 = r2_score(y, y_pred)\n",
    "\n",
    "print(f\"Mean Absolute Error: {mae:.2f}\")\n",
    "print(f\"Mean Squared Error: {mse:.2f}\")\n",
    "print(f\"R-squared Score: {r2:.2f}\")\n",
    "\n",
    "# Cross-validation scores\n",
    "cv_scores = cross_val_score(model, X, y, cv=5)  # Change cv as needed\n",
    "print(f\"Cross-validation Scores: {cv_scores}\")\n",
    "print(f\"Mean Cross-validation Score: {cv_scores.mean():.2f}\")\n"
   ]
  },
  {
   "cell_type": "code",
   "execution_count": null,
   "id": "5d02edb7-1a6a-4702-8507-8d50d9b23945",
   "metadata": {},
   "outputs": [],
   "source": []
  }
 ],
 "metadata": {
  "kernelspec": {
   "display_name": "Python 3 (ipykernel)",
   "language": "python",
   "name": "python3"
  },
  "language_info": {
   "codemirror_mode": {
    "name": "ipython",
    "version": 3
   },
   "file_extension": ".py",
   "mimetype": "text/x-python",
   "name": "python",
   "nbconvert_exporter": "python",
   "pygments_lexer": "ipython3",
   "version": "3.11.4"
  }
 },
 "nbformat": 4,
 "nbformat_minor": 5
}
